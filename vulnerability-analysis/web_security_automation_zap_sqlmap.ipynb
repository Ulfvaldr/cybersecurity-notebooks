{
 "cells": [
  {
   "cell_type": "markdown",
   "metadata": {},
   "source": [
    "### Automating Web Application Security Testing with OWASP ZAP and SQLMap\n",
    "\n",
    "### Table of Contents\n",
    "\n",
    "1. [Introduction](#introduction)\n",
    "2. [Prerequisites and Setup](#prerequisites-and-setup)\n",
    "   - [Tools Used](#tools-used)\n",
    "   - [Installation Instructions](#installation-instructions)\n",
    "   - [Setting Up a Test Environment](#setting-up-a-test-environment)\n",
    "3. [OWASP ZAP: Automating Web Application Scans](#owasp-zap-automating-web-application-scans)\n",
    "   - [Launching OWASP ZAP](#launching-owasp-zap)\n",
    "   - [Using the ZAP API for Automated Scanning](#using-the-zap-api-for-automated-scanning)\n",
    "   - [Analyzing ZAP Results](#analyzing-zap-results)\n",
    "4. [SQLMap: Automating SQL Injection Testing](#sqlmap-automating-sql-injection-testing)\n",
    "   - [Basic SQLMap Commands](#basic-sqlmap-commands)\n",
    "   - [Automating SQLMap with Python](#automating-sqlmap-with-python)\n",
    "   - [Parsing SQLMap Output](#parsing-sqlmap-output)\n",
    "5. [Visualizing Vulnerability Data](#visualizing-vulnerability-data)\n",
    "   - [Data Extraction from ZAP and SQLMap](#data-extraction-from-zap-and-sqlmap)\n",
    "   - [Visualizing with Matplotlib and Seaborn](#visualizing-with-matplotlib-and-seaborn)\n",
    "6. [Generating Interactive Dashboards](#generating-interactive-dashboards)\n",
    "   - [Using Plotly for Interactive Visualizations](#using-plotly-for-interactive-visualizations)\n",
    "   - [Creating a Vulnerability Dashboard](#creating-a-vulnerability-dashboard)\n",
    "7. [Remediation and Retesting](#remediation-and-retesting)\n",
    "   - [Tracking Vulnerability Fixes](#tracking-vulnerability-fixes)\n",
    "   - [Running Retests to Verify Fixes](#running-retests-to-verify-fixes)\n",
    "8. [Conclusion](#conclusion)\n",
    "\n"
   ]
  },
  {
   "cell_type": "markdown",
   "metadata": {},
   "source": [
    "#### Automating Web Application Security Testing with OWASP ZAP and SQLMap\n",
    "\n",
    "##### Introduction\n",
    "\n",
    "In this notebook, we will demonstrate how to automate the process of web application security testing using two popular open-source tools, **OWASP ZAP** and **SQLMap**. OWASP ZAP helps in detecting security vulnerabilities in web applications such as Cross-Site Scripting (XSS), broken authentication, and other web-based issues, while SQLMap specializes in detecting and exploiting SQL injection vulnerabilities. \n",
    "\n",
    "The goal of this project is to automate the scanning process, extract and visualize vulnerabilities, and provide insights into how these vulnerabilities can be mitigated. We will leverage Python to automate tool interactions and visualize vulnerability data with libraries like **Matplotlib**, **Seaborn**, and **Plotly** for advanced dashboards.\n"
   ]
  },
  {
   "cell_type": "markdown",
   "metadata": {},
   "source": [
    "#### 2. Prerequisites and Setup\n",
    "\n",
    "Before diving into automated web application scanning, we need to ensure that the required tools are installed and configured properly. This section will walk through the installation process for OWASP ZAP and SQLMap, setting up a testing environment, and the basic system requirements.\n",
    "\n",
    "### Tools Used\n",
    "\n",
    "We will use the following tools:\n",
    "- **OWASP ZAP**: An open-source web application security scanner.\n",
    "- **SQLMap**: An open-source tool for automating SQL injection testing.\n",
    "- **Python**: The programming language we will use to automate the interactions with ZAP and SQLMap.\n",
    "- **Matplotlib, Seaborn, Plotly**: Python libraries for visualizing data.\n",
    "\n",
    "### Installation Instructions\n",
    "\n",
    "1. **Installing OWASP ZAP**\n",
    "   - Download OWASP ZAP from the [official website](https://www.zaproxy.org/download/).\n",
    "   - Follow the installation instructions for your operating system.\n",
    "   - Verify installation by running the following command in your terminal:"
   ]
  },
  {
   "cell_type": "markdown",
   "metadata": {},
   "source": [
    "This will confirm that ZAP is installed correctly."
   ]
  },
  {
   "cell_type": "markdown",
   "metadata": {},
   "source": [
    "- **Installing SQLMap**\n",
    "   - Clone the SQLMap GitHub repository:"
   ]
  },
  {
   "cell_type": "code",
   "execution_count": null,
   "metadata": {},
   "outputs": [],
   "source": [
    "git clone https://github.com/sqlmapproject/sqlmap.git"
   ]
  },
  {
   "cell_type": "markdown",
   "metadata": {},
   "source": [
    " - Navigate into the `sqlmap` directory and run it:"
   ]
  },
  {
   "cell_type": "code",
   "execution_count": null,
   "metadata": {},
   "outputs": [],
   "source": [
    "cd sqlmap\n",
    "python sqlmap.py --help"
   ]
  },
  {
   "cell_type": "markdown",
   "metadata": {},
   "source": [
    "This should print the SQLMap help documentation, confirming that the tool is installed properly."
   ]
  },
  {
   "cell_type": "markdown",
   "metadata": {},
   "source": [
    "- **Setting up Python Environment**\n",
    "   - Create a Python virtual environment and install the necessary libraries:"
   ]
  },
  {
   "cell_type": "code",
   "execution_count": null,
   "metadata": {},
   "outputs": [],
   "source": [
    "python -m venv venv\n",
    "\n",
    "# source venv/bin/activate  # For Linux/MacOS\n",
    "\n",
    "# On Windows: venv\\Scripts\\activate\n",
    "\n",
    "pip install matplotlib seaborn plotly requests"
   ]
  },
  {
   "cell_type": "markdown",
   "metadata": {},
   "source": [
    "### Setting Up a Test Environment"
   ]
  },
  {
   "cell_type": "markdown",
   "metadata": {},
   "source": [
    "For testing purposes, it's useful to use a vulnerable web application like **DVWA (Damn Vulnerable Web Application)** or **Mutillidae**:\n",
    "   - Download and set up [DVWA](https://github.com/digininja/DVWA) or [Mutillidae](https://github.com/webpwnized/mutillidae).\n",
    "   - Make sure your test environment is running so OWASP ZAP and SQLMap can target it."
   ]
  },
  {
   "cell_type": "markdown",
   "metadata": {},
   "source": [
    "#### 3. OWASP ZAP: Automating Web Application Scans\n",
    "\n",
    "#### Launching OWASP ZAP\n",
    "\n",
    "You can launch OWASP ZAP either via the GUI or in **headless mode**. For automation purposes, we will use the **ZAP API** to interact programmatically with the tool.\n",
    "\n",
    "1. Start OWASP ZAP in headless mode using the following command:"
   ]
  },
  {
   "cell_type": "code",
   "execution_count": null,
   "metadata": {},
   "outputs": [],
   "source": [
    " zap.sh -daemon -port 8090 -host 127.0.0.1"
   ]
  },
  {
   "cell_type": "markdown",
   "metadata": {},
   "source": [
    "This starts ZAP as a background process, listening on port 8090.\n",
    "\n",
    "- Verify that ZAP is running by opening your browser and navigating to:"
   ]
  },
  {
   "cell_type": "code",
   "execution_count": null,
   "metadata": {},
   "outputs": [],
   "source": [
    "http://localhost:8090"
   ]
  },
  {
   "cell_type": "markdown",
   "metadata": {},
   "source": [
    "##### Using the ZAP API for Automated Scanning\n",
    "ZAP exposes an API for automating scans. First, install the python-owasp-zap-v2.4 package to interact with the API:"
   ]
  },
  {
   "cell_type": "code",
   "execution_count": null,
   "metadata": {},
   "outputs": [],
   "source": [
    "pip install python-owasp-zap-v2.4"
   ]
  },
  {
   "cell_type": "markdown",
   "metadata": {},
   "source": [
    "The following Python code will automate the process of scanning a target web app:"
   ]
  },
  {
   "cell_type": "code",
   "execution_count": null,
   "metadata": {},
   "outputs": [],
   "source": [
    "from zapv2 import ZAPv2\n",
    "import time\n",
    "\n",
    "# Connect to ZAP\n",
    "zap = ZAPv2(apikey='your_api_key', proxies={'http': 'http://127.0.0.1:8090', 'https': 'http://127.0.0.1:8090'})\n",
    "\n",
    "# Define the target\n",
    "target_url = 'http://your-test-app-url.com'\n",
    "\n",
    "# Start a new session\n",
    "zap.core.new_session(name='test_session', overwrite=True)\n",
    "\n",
    "# Access the target website\n",
    "print(f\"Accessing target {target_url}\")\n",
    "zap.urlopen(target_url)\n",
    "\n",
    "# Perform passive scan\n",
    "print(f\"Starting passive scan on {target_url}\")\n",
    "time.sleep(2)  # Give some time for ZAP to analyze the site\n",
    "\n",
    "# Start active scan\n",
    "print(f\"Starting active scan on {target_url}\")\n",
    "scan_id = zap.ascan.scan(target_url)\n",
    "\n",
    "# Monitor the status of the scan\n",
    "while int(zap.ascan.status(scan_id)) < 100:\n",
    "    print(f\"Scan progress: {zap.ascan.status(scan_id)}%\")\n",
    "    time.sleep(5)\n",
    "\n",
    "print(f\"Scan completed for {target_url}\")"
   ]
  },
  {
   "cell_type": "markdown",
   "metadata": {},
   "source": [
    "#### Analyzing ZAP Results\n",
    "After the scan completes, the results can be retrieved and analyzed. Here's how to extract the discovered vulnerabilities:"
   ]
  },
  {
   "cell_type": "code",
   "execution_count": null,
   "metadata": {},
   "outputs": [],
   "source": [
    "alerts = zap.core.alerts(baseurl=target_url)\n",
    "for alert in alerts:\n",
    "    print(f\"Alert: {alert['alert']}, Risk: {alert['risk']}, URL: {alert['url']}\")\n"
   ]
  },
  {
   "cell_type": "markdown",
   "metadata": {},
   "source": [
    "You can save the results to a JSON file for further analysis and visualization:"
   ]
  },
  {
   "cell_type": "code",
   "execution_count": null,
   "metadata": {},
   "outputs": [],
   "source": [
    "import json\n",
    "\n",
    "with open('zap_scan_results.json', 'w') as f:\n",
    "    json.dump(alerts, f, indent=4)\n"
   ]
  },
  {
   "cell_type": "markdown",
   "metadata": {},
   "source": [
    "### Summary:\n",
    "This notebook demonstrates how to automate the process of web application security testing using two widely known tools, OWASP ZAP and SQLMap. The Jupyter notebooks guide users through setting up automated vulnerability scanning workflows, performing web security scans, and detecting critical issues like SQL injection and cross-site scripting (XSS). Python is used to integrate with the ZAP API and automate SQLMap commands, while popular data visualization libraries such as Matplotlib, Seaborn, and Plotly are leveraged to analyze and visualize the vulnerabilities found. The project also provides insights into tracking and verifying the remediation of security flaws."
   ]
  }
 ],
 "metadata": {
  "kernelspec": {
   "display_name": "venv",
   "language": "python",
   "name": "python3"
  },
  "language_info": {
   "codemirror_mode": {
    "name": "ipython",
    "version": 3
   },
   "file_extension": ".py",
   "mimetype": "text/x-python",
   "name": "python",
   "nbconvert_exporter": "python",
   "pygments_lexer": "ipython3",
   "version": "3.12.1"
  }
 },
 "nbformat": 4,
 "nbformat_minor": 2
}
