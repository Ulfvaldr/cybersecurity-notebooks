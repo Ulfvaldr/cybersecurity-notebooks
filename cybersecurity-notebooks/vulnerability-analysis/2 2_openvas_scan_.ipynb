{
 "cells": [
  {
   "cell_type": "markdown",
   "metadata": {},
   "source": [
    "# 2.2 OpenVAS Vulnerability Scan\n",
    "\n",
    "## Table of Contents\n",
    "\n",
    "1. [Objective](#objective)\n",
    "   - Perform a vulnerability scan using OpenVAS and analyze the results.\n",
    "\n",
    "2. [Import Libraries](#import-libraries)\n",
    "   - Import required Python libraries: `gvm`, `pandas`, `seaborn`, `matplotlib`.\n",
    "\n",
    "3. [Connect to OpenVAS and Authenticate](#connect-to-openvas-and-authenticate)\n",
    "   - Establish a connection to OpenVAS using the `gvm-python` library.\n",
    "\n",
    "4. [Launch a Vulnerability Scan](#launch-a-vulnerability-scan)\n",
    "   - Start a vulnerability scan on a specific target and check its status.\n",
    "\n",
    "5. [Retrieve and Analyze Results](#retrieve-and-analyze-results)\n",
    "   - Download the scan results from OpenVAS and convert them into a Pandas DataFrame.\n",
    "\n",
    "6. [Visualize Vulnerability Severity Levels](#visualize-vulnerability-severity-levels)\n",
    "   - Create a bar chart to display the number of vulnerabilities by severity.\n",
    "\n",
    "7. [Conclusion](#conclusion)\n",
    "   - Summarize the process and explain the importance of addressing high-severity vulnerabilities.\n"
   ]
  },
  {
   "cell_type": "markdown",
   "metadata": {},
   "source": [
    "---"
   ]
  },
  {
   "cell_type": "markdown",
   "metadata": {},
   "source": [
    "#### 1. Objective:\n",
    "- Perform a vulnerability assessment using OpenVAS, retrieve the results via the API, and analyze them.\n",
    "- Visualize the vulnerability distribution by severity level.\n",
    "- We will use the gvm-python library to interact with the OpenVAS server, launch a scan, and retrieve scan results.\n",
    "- We will extract vulnerability data such as severity, name, port, and description, storing it in a Pandas DataFrame for analysis.\n",
    "= Seaborn and Matplotlib will be used to create visualizations such as bar charts to represent the severity levels of the vulnerabilities found."
   ]
  },
  {
   "cell_type": "markdown",
   "metadata": {},
   "source": [
    "---"
   ]
  },
  {
   "cell_type": "markdown",
   "metadata": {},
   "source": [
    "##### Step 1: Import Libraries"
   ]
  },
  {
   "cell_type": "code",
   "execution_count": 1,
   "metadata": {},
   "outputs": [],
   "source": [
    "# Import required libraries\n",
    "import gvm\n",
    "import pandas as pd\n",
    "import seaborn as sns\n",
    "import matplotlib.pyplot as plt\n",
    "\n",
    "# Display plots inline\n",
    "%matplotlib inline\n"
   ]
  },
  {
   "cell_type": "markdown",
   "metadata": {},
   "source": [
    "---"
   ]
  },
  {
   "cell_type": "code",
   "execution_count": 6,
   "metadata": {},
   "outputs": [
    {
     "ename": "ImportError",
     "evalue": "cannot import name 'TcpConnection' from 'gvm.connections' (c:\\Users\\rjvb6\\Desktop\\my-projects\\venv\\Lib\\site-packages\\gvm\\connections\\__init__.py)",
     "output_type": "error",
     "traceback": [
      "\u001b[1;31m---------------------------------------------------------------------------\u001b[0m",
      "\u001b[1;31mImportError\u001b[0m                               Traceback (most recent call last)",
      "Cell \u001b[1;32mIn[6], line 1\u001b[0m\n\u001b[1;32m----> 1\u001b[0m \u001b[38;5;28;01mfrom\u001b[39;00m \u001b[38;5;21;01mgvm\u001b[39;00m\u001b[38;5;21;01m.\u001b[39;00m\u001b[38;5;21;01mconnections\u001b[39;00m \u001b[38;5;28;01mimport\u001b[39;00m TcpConnection\n\u001b[0;32m      2\u001b[0m \u001b[38;5;28;01mfrom\u001b[39;00m \u001b[38;5;21;01mgvm\u001b[39;00m\u001b[38;5;21;01m.\u001b[39;00m\u001b[38;5;21;01mprotocols\u001b[39;00m\u001b[38;5;21;01m.\u001b[39;00m\u001b[38;5;21;01mgmp\u001b[39;00m \u001b[38;5;28;01mimport\u001b[39;00m Gmp\n\u001b[0;32m      4\u001b[0m \u001b[38;5;66;03m# Establish a TCP connection to OpenVAS (adjust the hostname and port if needed)\u001b[39;00m\n",
      "\u001b[1;31mImportError\u001b[0m: cannot import name 'TcpConnection' from 'gvm.connections' (c:\\Users\\rjvb6\\Desktop\\my-projects\\venv\\Lib\\site-packages\\gvm\\connections\\__init__.py)"
     ]
    }
   ],
   "source": [
    "from gvm.connections import TcpConnection\n",
    "from gvm.protocols.gmp import Gmp\n",
    "\n",
    "# Establish a TCP connection to OpenVAS (adjust the hostname and port if needed)\n",
    "connection = TcpConnection(hostname='localhost', port=9390)\n",
    "\n",
    "# Authenticate using Greenbone Management Protocol (GMP)\n",
    "with Gmp(connection) as gmp:\n",
    "    # Fetch and print GMP version to verify connection\n",
    "    version = gmp.get_version()\n",
    "    print(f\"GMP Version: {version}\")\n",
    "\n",
    "    # Perform login with admin credentials\n",
    "    gmp.authenticate(username='admin', password='admin_pass')\n",
    "    print(\"Authenticated successfully!\")\n"
   ]
  },
  {
   "cell_type": "markdown",
   "metadata": {},
   "source": [
    "##### Step 2: Connect to OpenVAS and Authenticate"
   ]
  },
  {
   "cell_type": "code",
   "execution_count": 5,
   "metadata": {},
   "outputs": [
    {
     "ename": "AttributeError",
     "evalue": "module 'socket' has no attribute 'AF_UNIX'",
     "output_type": "error",
     "traceback": [
      "\u001b[1;31m---------------------------------------------------------------------------\u001b[0m",
      "\u001b[1;31mAttributeError\u001b[0m                            Traceback (most recent call last)",
      "Cell \u001b[1;32mIn[5], line 11\u001b[0m\n\u001b[0;32m      8\u001b[0m connection \u001b[38;5;241m=\u001b[39m UnixSocketConnection(path\u001b[38;5;241m=\u001b[39msocket_path)\n\u001b[0;32m     10\u001b[0m \u001b[38;5;66;03m# Authenticate using Greenbone Management Protocol (GMP)\u001b[39;00m\n\u001b[1;32m---> 11\u001b[0m \u001b[38;5;28;43;01mwith\u001b[39;49;00m\u001b[43m \u001b[49m\u001b[43mGmp\u001b[49m\u001b[43m(\u001b[49m\u001b[43mconnection\u001b[49m\u001b[43m)\u001b[49m\u001b[43m \u001b[49m\u001b[38;5;28;43;01mas\u001b[39;49;00m\u001b[43m \u001b[49m\u001b[43mgmp\u001b[49m\u001b[43m:\u001b[49m\n\u001b[0;32m     12\u001b[0m \u001b[43m    \u001b[49m\u001b[38;5;66;43;03m# Try fetching the version to ensure connection\u001b[39;49;00m\n\u001b[0;32m     13\u001b[0m \u001b[43m    \u001b[49m\u001b[43mversion\u001b[49m\u001b[43m \u001b[49m\u001b[38;5;241;43m=\u001b[39;49m\u001b[43m \u001b[49m\u001b[43mgmp\u001b[49m\u001b[38;5;241;43m.\u001b[39;49m\u001b[43mget_version\u001b[49m\u001b[43m(\u001b[49m\u001b[43m)\u001b[49m\n\u001b[0;32m     14\u001b[0m \u001b[43m    \u001b[49m\u001b[38;5;28;43mprint\u001b[39;49m\u001b[43m(\u001b[49m\u001b[38;5;124;43mf\u001b[39;49m\u001b[38;5;124;43m\"\u001b[39;49m\u001b[38;5;124;43mGMP Version: \u001b[39;49m\u001b[38;5;132;43;01m{\u001b[39;49;00m\u001b[43mversion\u001b[49m\u001b[38;5;132;43;01m}\u001b[39;49;00m\u001b[38;5;124;43m\"\u001b[39;49m\u001b[43m)\u001b[49m\n",
      "File \u001b[1;32mc:\\Users\\rjvb6\\Desktop\\my-projects\\venv\\Lib\\site-packages\\gvm\\protocols\\gmp\\_gmp.py:104\u001b[0m, in \u001b[0;36mGMP.__enter__\u001b[1;34m(self)\u001b[0m\n\u001b[0;32m     99\u001b[0m \u001b[38;5;28;01mdef\u001b[39;00m \u001b[38;5;21m__enter__\u001b[39m(\u001b[38;5;28mself\u001b[39m) \u001b[38;5;241m-\u001b[39m\u001b[38;5;241m>\u001b[39m SUPPORTED_GMP_VERSIONS:  \u001b[38;5;66;03m# type: ignore[override]\u001b[39;00m\n\u001b[0;32m    100\u001b[0m \u001b[38;5;250m    \u001b[39m\u001b[38;5;124;03m\"\"\"\u001b[39;00m\n\u001b[0;32m    101\u001b[0m \u001b[38;5;124;03m    Returns the corresponding GMP class of the supported GMP version of the\u001b[39;00m\n\u001b[0;32m    102\u001b[0m \u001b[38;5;124;03m    remote manager daemon.\u001b[39;00m\n\u001b[0;32m    103\u001b[0m \u001b[38;5;124;03m    \"\"\"\u001b[39;00m\n\u001b[1;32m--> 104\u001b[0m     \u001b[38;5;28mself\u001b[39m\u001b[38;5;241m.\u001b[39m_gmp \u001b[38;5;241m=\u001b[39m \u001b[38;5;28;43mself\u001b[39;49m\u001b[38;5;241;43m.\u001b[39;49m\u001b[43mdetermine_supported_gmp\u001b[49m\u001b[43m(\u001b[49m\u001b[43m)\u001b[49m\n\u001b[0;32m    106\u001b[0m     \u001b[38;5;28mself\u001b[39m\u001b[38;5;241m.\u001b[39m_gmp\u001b[38;5;241m.\u001b[39mconnect()\n\u001b[0;32m    108\u001b[0m     \u001b[38;5;28;01mreturn\u001b[39;00m \u001b[38;5;28mself\u001b[39m\u001b[38;5;241m.\u001b[39m_gmp\n",
      "File \u001b[1;32mc:\\Users\\rjvb6\\Desktop\\my-projects\\venv\\Lib\\site-packages\\gvm\\protocols\\gmp\\_gmp.py:84\u001b[0m, in \u001b[0;36mGMP.determine_supported_gmp\u001b[1;34m(self)\u001b[0m\n\u001b[0;32m     80\u001b[0m \u001b[38;5;28;01mdef\u001b[39;00m \u001b[38;5;21mdetermine_supported_gmp\u001b[39m(\u001b[38;5;28mself\u001b[39m) \u001b[38;5;241m-\u001b[39m\u001b[38;5;241m>\u001b[39m SUPPORTED_GMP_VERSIONS:\n\u001b[0;32m     81\u001b[0m \u001b[38;5;250m    \u001b[39m\u001b[38;5;124;03m\"\"\"Determine supported GMP version of the remote daemon and return a\u001b[39;00m\n\u001b[0;32m     82\u001b[0m \u001b[38;5;124;03m    corresponding GMP class instance\u001b[39;00m\n\u001b[0;32m     83\u001b[0m \u001b[38;5;124;03m    \"\"\"\u001b[39;00m\n\u001b[1;32m---> 84\u001b[0m     version_str \u001b[38;5;241m=\u001b[39m \u001b[38;5;28;43mself\u001b[39;49m\u001b[38;5;241;43m.\u001b[39;49m\u001b[43mdetermine_remote_gmp_version\u001b[49m\u001b[43m(\u001b[49m\u001b[43m)\u001b[49m\u001b[38;5;241m.\u001b[39msplit(\u001b[38;5;124m\"\u001b[39m\u001b[38;5;124m.\u001b[39m\u001b[38;5;124m\"\u001b[39m, \u001b[38;5;241m1\u001b[39m)\n\u001b[0;32m     85\u001b[0m     major_version \u001b[38;5;241m=\u001b[39m \u001b[38;5;28mint\u001b[39m(version_str[\u001b[38;5;241m0\u001b[39m])\n\u001b[0;32m     86\u001b[0m     minor_version \u001b[38;5;241m=\u001b[39m \u001b[38;5;28mint\u001b[39m(version_str[\u001b[38;5;241m1\u001b[39m])\n",
      "File \u001b[1;32mc:\\Users\\rjvb6\\Desktop\\my-projects\\venv\\Lib\\site-packages\\gvm\\protocols\\gmp\\_gmp.py:67\u001b[0m, in \u001b[0;36mGMP.determine_remote_gmp_version\u001b[1;34m(self)\u001b[0m\n\u001b[0;32m     65\u001b[0m \u001b[38;5;28;01mdef\u001b[39;00m \u001b[38;5;21mdetermine_remote_gmp_version\u001b[39m(\u001b[38;5;28mself\u001b[39m) \u001b[38;5;241m-\u001b[39m\u001b[38;5;241m>\u001b[39m \u001b[38;5;28mstr\u001b[39m:\n\u001b[0;32m     66\u001b[0m \u001b[38;5;250m    \u001b[39m\u001b[38;5;124;03m\"\"\"Determine the supported GMP version of the remote daemon\"\"\"\u001b[39;00m\n\u001b[1;32m---> 67\u001b[0m     \u001b[38;5;28;43mself\u001b[39;49m\u001b[38;5;241;43m.\u001b[39;49m\u001b[43mconnect\u001b[49m\u001b[43m(\u001b[49m\u001b[43m)\u001b[49m\n\u001b[0;32m     68\u001b[0m     resp \u001b[38;5;241m=\u001b[39m \u001b[38;5;28mself\u001b[39m\u001b[38;5;241m.\u001b[39m_send_command(Version\u001b[38;5;241m.\u001b[39mget_version())\n\u001b[0;32m     69\u001b[0m     \u001b[38;5;28mself\u001b[39m\u001b[38;5;241m.\u001b[39mdisconnect()\n",
      "File \u001b[1;32mc:\\Users\\rjvb6\\Desktop\\my-projects\\venv\\Lib\\site-packages\\gvm\\protocols\\_protocol.py:95\u001b[0m, in \u001b[0;36mGvmProtocol.connect\u001b[1;34m(self)\u001b[0m\n\u001b[0;32m     85\u001b[0m \u001b[38;5;250m\u001b[39m\u001b[38;5;124;03m\"\"\"Initiates a protocol connection\u001b[39;00m\n\u001b[0;32m     86\u001b[0m \n\u001b[0;32m     87\u001b[0m \u001b[38;5;124;03mNormally connect is not called directly. Either it is called\u001b[39;00m\n\u001b[1;32m   (...)\u001b[0m\n\u001b[0;32m     92\u001b[0m \u001b[38;5;124;03m    https://docs.python.org/3/reference/datamodel.html#with-statement-context-managers\u001b[39;00m\n\u001b[0;32m     93\u001b[0m \u001b[38;5;124;03m\"\"\"\u001b[39;00m\n\u001b[0;32m     94\u001b[0m \u001b[38;5;28;01mif\u001b[39;00m \u001b[38;5;129;01mnot\u001b[39;00m \u001b[38;5;28mself\u001b[39m\u001b[38;5;241m.\u001b[39mis_connected():\n\u001b[1;32m---> 95\u001b[0m     \u001b[38;5;28;43mself\u001b[39;49m\u001b[38;5;241;43m.\u001b[39;49m\u001b[43m_connection\u001b[49m\u001b[38;5;241;43m.\u001b[39;49m\u001b[43mconnect\u001b[49m\u001b[43m(\u001b[49m\u001b[43m)\u001b[49m\n\u001b[0;32m     96\u001b[0m     \u001b[38;5;28mself\u001b[39m\u001b[38;5;241m.\u001b[39m_connected \u001b[38;5;241m=\u001b[39m \u001b[38;5;28;01mTrue\u001b[39;00m\n",
      "File \u001b[1;32mc:\\Users\\rjvb6\\Desktop\\my-projects\\venv\\Lib\\site-packages\\gvm\\connections\\_unix.py:44\u001b[0m, in \u001b[0;36mUnixSocketConnection.connect\u001b[1;34m(self)\u001b[0m\n\u001b[0;32m     41\u001b[0m \u001b[38;5;28;01mdef\u001b[39;00m \u001b[38;5;21mconnect\u001b[39m(\u001b[38;5;28mself\u001b[39m) \u001b[38;5;241m-\u001b[39m\u001b[38;5;241m>\u001b[39m \u001b[38;5;28;01mNone\u001b[39;00m:\n\u001b[0;32m     42\u001b[0m \u001b[38;5;250m    \u001b[39m\u001b[38;5;124;03m\"\"\"Connect to the UNIX socket\"\"\"\u001b[39;00m\n\u001b[0;32m     43\u001b[0m     \u001b[38;5;28mself\u001b[39m\u001b[38;5;241m.\u001b[39m_socket \u001b[38;5;241m=\u001b[39m socketlib\u001b[38;5;241m.\u001b[39msocket(\n\u001b[1;32m---> 44\u001b[0m         \u001b[43msocketlib\u001b[49m\u001b[38;5;241;43m.\u001b[39;49m\u001b[43mAF_UNIX\u001b[49m, socketlib\u001b[38;5;241m.\u001b[39mSOCK_STREAM\n\u001b[0;32m     45\u001b[0m     )\n\u001b[0;32m     46\u001b[0m     \u001b[38;5;28mself\u001b[39m\u001b[38;5;241m.\u001b[39m_socket\u001b[38;5;241m.\u001b[39msettimeout(\u001b[38;5;28mself\u001b[39m\u001b[38;5;241m.\u001b[39m_timeout)\n\u001b[0;32m     47\u001b[0m     \u001b[38;5;28;01mtry\u001b[39;00m:\n",
      "\u001b[1;31mAttributeError\u001b[0m: module 'socket' has no attribute 'AF_UNIX'"
     ]
    }
   ],
   "source": [
    "from gvm.connections import UnixSocketConnection\n",
    "from gvm.protocols.gmp import Gmp\n",
    "\n",
    "# Path to the OpenVAS socket (adjust this path as per your system)\n",
    "socket_path = '/var/run/openvasmd.sock'\n",
    "\n",
    "# Establish connection using a Unix socket\n",
    "connection = UnixSocketConnection(path=socket_path)\n",
    "\n",
    "# Authenticate using Greenbone Management Protocol (GMP)\n",
    "with Gmp(connection) as gmp:\n",
    "    # Try fetching the version to ensure connection\n",
    "    version = gmp.get_version()\n",
    "    print(f\"GMP Version: {version}\")\n"
   ]
  },
  {
   "cell_type": "markdown",
   "metadata": {},
   "source": [
    "##### Why is this important?\n",
    "- API Control: Establishing a connection with the OpenVAS server allows you to launch scans, retrieve results, and manage security assessments remotely.\n",
    "- Automation: With authenticated API access, security scans can be automated, reducing manual overhead.\n"
   ]
  },
  {
   "cell_type": "markdown",
   "metadata": {},
   "source": [
    "---"
   ]
  },
  {
   "cell_type": "markdown",
   "metadata": {},
   "source": [
    "##### Step 3: Launch a Vulnerability Scan"
   ]
  },
  {
   "cell_type": "code",
   "execution_count": null,
   "metadata": {},
   "outputs": [],
   "source": [
    "# Launch a vulnerability scan\n",
    "target = '127.0.0.1'\n",
    "scan_id = connection.scan(target=target, scan_config='Full and fast')\n",
    "\n",
    "# Check scan status\n",
    "status = connection.scan_status(scan_id)\n",
    "print(f\"Scan Status: {status}\")\n"
   ]
  },
  {
   "cell_type": "markdown",
   "metadata": {},
   "source": [
    "##### Why is this important?\n",
    "- Scanning for Threats: Launching a vulnerability scan using OpenVAS provides deep insights into potential weaknesses across your network or specific hosts.\n",
    "- Configuration: You can customize the scan configuration (e.g., full and fast) to optimize for different environments, allowing faster scans or more thorough assessments.\n"
   ]
  },
  {
   "cell_type": "markdown",
   "metadata": {},
   "source": [
    "---"
   ]
  },
  {
   "cell_type": "markdown",
   "metadata": {},
   "source": [
    "#### Step 4: Retrieve and Analyze Results"
   ]
  },
  {
   "cell_type": "code",
   "execution_count": null,
   "metadata": {},
   "outputs": [],
   "source": [
    "# Retrieve scan results\n",
    "results = connection.get_results(scan_id=scan_id)\n",
    "\n",
    "# Convert results to a DataFrame\n",
    "vuln_data = []\n",
    "for result in results:\n",
    "    vuln_data.append({\n",
    "        'Name': result['name'],\n",
    "        'Severity': result['severity'],\n",
    "        'Port': result['port'],\n",
    "        'Description': result['description']\n",
    "    })\n",
    "\n",
    "df_vulns = pd.DataFrame(vuln_data)\n",
    "df_vulns.head()\n"
   ]
  },
  {
   "cell_type": "markdown",
   "metadata": {},
   "source": [
    "##### Why is this important?\n",
    "- Vulnerability Analysis: Retrieving and parsing the vulnerability scan results allows you to identify which systems, services, and ports are at risk and assess the severity of those vulnerabilities.\n",
    "- Structured Data: Converting the scan results into a DataFrame makes it easier to filter, group, and visualize vulnerabilities for deeper analysis.\n"
   ]
  },
  {
   "cell_type": "markdown",
   "metadata": {},
   "source": [
    "---"
   ]
  },
  {
   "cell_type": "markdown",
   "metadata": {},
   "source": [
    "##### Step 5: Visualize Vulnerability Severity Levels"
   ]
  },
  {
   "cell_type": "code",
   "execution_count": null,
   "metadata": {},
   "outputs": [],
   "source": [
    "# Visualize the vulnerabilities by severity level\n",
    "plt.figure(figsize=(10, 6))\n",
    "sns.countplot(data=df_vulns, x='Severity', palette='coolwarm')\n",
    "plt.title('Vulnerabilities by Severity Level')\n",
    "plt.ylabel('Count')\n",
    "plt.xlabel('Severity')\n",
    "plt.show()"
   ]
  },
  {
   "cell_type": "markdown",
   "metadata": {},
   "source": [
    "---"
   ]
  },
  {
   "cell_type": "markdown",
   "metadata": {},
   "source": [
    "##### Step 6: Conclusion"
   ]
  },
  {
   "cell_type": "code",
   "execution_count": null,
   "metadata": {},
   "outputs": [],
   "source": [
    "## Conclusion\n",
    "\n",
    "In this notebook, we demonstrated how to:\n",
    "1. Connect to OpenVAS and authenticate.\n",
    "2. Launch a vulnerability scan on the target system.\n",
    "3. Retrieve and analyze the scan results.\n",
    "4. Visualize the vulnerabilities by severity level.\n",
    "\n",
    "By identifying high-severity vulnerabilities, you can focus on addressing the most critical security issues.\n"
   ]
  },
  {
   "cell_type": "markdown",
   "metadata": {},
   "source": [
    "##### Why is this important?\n",
    "- Complete Workflow: Automating the vulnerability assessment workflow with OpenVAS helps ensure timely and thorough evaluations of network security.\n",
    "- Security Prioritization: Focusing on high-risk vulnerabilities ensures that your remediation efforts are targeted and effective."
   ]
  }
 ],
 "metadata": {
  "kernelspec": {
   "display_name": "venv",
   "language": "python",
   "name": "python3"
  },
  "language_info": {
   "codemirror_mode": {
    "name": "ipython",
    "version": 3
   },
   "file_extension": ".py",
   "mimetype": "text/x-python",
   "name": "python",
   "nbconvert_exporter": "python",
   "pygments_lexer": "ipython3",
   "version": "3.12.1"
  }
 },
 "nbformat": 4,
 "nbformat_minor": 2
}
