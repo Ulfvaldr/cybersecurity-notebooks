{
 "cells": [
  {
   "cell_type": "markdown",
   "metadata": {},
   "source": [
    "# Automated Threat Detection Using MITRE ATT&CK\n",
    "\n",
    "## Table of Contents\n",
    "\n",
    "1. [Project Overview](#1-project-overview)\n",
    "2. [Prerequisites](#2-prerequisites)\n",
    "    1. [Python Setup](#21-python-setup)\n",
    "    2. [Required Libraries](#22-required-libraries)\n",
    "    3. [Setting Up MITRE ATT&CK Python Module](#23-setting-up-mitre-attack-python-module)\n",
    "3. [MITRE ATT&CK Framework Overview](#3-mitre-attack-framework-overview)\n",
    "4. [Fetching Logs and Parsing](#4-fetching-logs-and-parsing)\n",
    "    1. [Collecting Logs from SIEM](#41-collecting-logs-from-siem)\n",
    "    2. [Parsing Log Data](#42-parsing-log-data)\n",
    "5. [Mapping Log Data to MITRE ATT&CK Techniques](#5-mapping-log-data-to-mitre-attack-techniques)\n",
    "    1. [Data Processing with Pandas](#51-data-processing-with-pandas)\n",
    "    2. [Mapping Techniques using MITRE ATT&CK](#52-mapping-techniques-using-mitre-attack)\n",
    "6. [Visualization of Techniques](#6-visualization-of-techniques)\n",
    "    1. [Creating a Heatmap](#61-creating-a-heatmap)\n",
    "    2. [Displaying the ATT&CK Matrix](#62-displaying-the-attack-matrix)\n",
    "7. [Generating Reports](#7-generating-reports)\n",
    "    1. [Exporting Data as PDF/HTML](#71-exporting-data-as-pdf-html)\n",
    "    2. [Summary Report of Detected Techniques](#72-summary-report-of-detected-techniques)\n",
    "8. [Conclusion](#8-conclusion)\n"
   ]
  },
  {
   "cell_type": "markdown",
   "metadata": {},
   "source": [
    "##### 1. Project Overview\n",
    "In this project, we will create a Python-based tool that automates the process of threat detection by mapping log data from security systems to the MITRE ATT&CK framework. This will help identify potential adversary tactics, techniques, and procedures (TTPs) based on log data, providing a better understanding of the threats faced by your organization. We'll also visualize the detected techniques using heatmaps and ATT&CK matrices.\n",
    "\n",
    "Key Objectives:\n",
    "\n",
    "- Collect log data from a SIEM system or raw log files.\n",
    "- Parse and process this log data using Python.\n",
    "- Map the logs to MITRE ATT&CK techniques using the mitreattack-python library.\n",
    "- Visualize the results through heatmaps and ATT&CK matrix visualizations.\n",
    "- Generate reports with a summary of the detected techniques and visual outputs."
   ]
  },
  {
   "cell_type": "markdown",
   "metadata": {},
   "source": [
    "---"
   ]
  },
  {
   "cell_type": "markdown",
   "metadata": {},
   "source": [
    "##### 2. Prerequisites\n",
    "2.1 Python Setup\n",
    "To ensure the environment is ready for the project, you'll need the following:\n",
    "\n",
    "1. Python 3.x installed (you can check the current version via `python -version`).\n",
    "   \n",
    "2. Jupyter Notebook for running the `.ipynb` file.\n",
    "- If you haven't installed Jupyter yet, you can do so with:"
   ]
  },
  {
   "cell_type": "code",
   "execution_count": null,
   "metadata": {},
   "outputs": [],
   "source": [
    "pip install notebook"
   ]
  },
  {
   "cell_type": "markdown",
   "metadata": {},
   "source": [
    "2.2 Required Libraries\n",
    "For this project, we will be using the following Python libraries:\n",
    "\n",
    "- `pandas`: For parsing and analyzing log data.\n",
    "  \n",
    "- `mitreattack-python`: To interact with the MITRE ATT&CK framework.\n",
    "  \n",
    "- `matplotlib`: For creating visualizations.\n",
    "  \n",
    "- `seaborn`: To enhance heatmap visualizations.\n",
    "\n",
    "You can install all the required libraries with the following command:"
   ]
  },
  {
   "cell_type": "code",
   "execution_count": null,
   "metadata": {},
   "outputs": [],
   "source": [
    "pip install pandas pyattck matplotlib seaborn fpdf"
   ]
  },
  {
   "cell_type": "markdown",
   "metadata": {},
   "source": [
    "2.3 Setting Up MITRE ATT&CK Python Module\n",
    "\n",
    "The `mitreattack-python` library allows us to interact with the MITRE ATT&CK framework programmatically. It helps fetch tactics and techniques based on the ATT&CK IDs that we'll map from our logs.\n",
    "\n",
    "After installing the library (from the command above), we will import and initialize the ATT&CK matrix in the next steps."
   ]
  },
  {
   "cell_type": "markdown",
   "metadata": {},
   "source": [
    "---"
   ]
  },
  {
   "cell_type": "markdown",
   "metadata": {},
   "source": [
    "##### Python Setup in Jupyter\n",
    "Let’s set up the Jupyter notebook environment. Here's the first cell to run in your notebook, which installs all necessary libraries:"
   ]
  },
  {
   "cell_type": "code",
   "execution_count": null,
   "metadata": {},
   "outputs": [],
   "source": [
    "# Install required libraries\n",
    "!pip install pandas mitreattack-python matplotlib seaborn\n"
   ]
  },
  {
   "cell_type": "markdown",
   "metadata": {},
   "source": [
    "After the installation is complete, we can verify by importing the libraries:"
   ]
  },
  {
   "cell_type": "code",
   "execution_count": null,
   "metadata": {},
   "outputs": [],
   "source": [
    "\n",
    "# Import necessary libraries\n",
    "import pandas as pd\n",
    "import matplotlib.pyplot as plt\n",
    "import seaborn as sns\n",
    "from mitreattack import Attack\n",
    "\n",
    "# Initialize the MITRE ATT&CK framework\n",
    "attack = Attack()\n",
    "\n",
    "# Check that the MITRE ATT&CK framework is initialized successfully\n",
    "print(f\"ATT&CK Version: {attack.version}\")"
   ]
  },
  {
   "cell_type": "markdown",
   "metadata": {},
   "source": [
    "This step initializes the mitreattack-python module and verifies that it’s connected to the correct ATT&CK dataset."
   ]
  },
  {
   "cell_type": "markdown",
   "metadata": {},
   "source": [
    "---"
   ]
  },
  {
   "cell_type": "markdown",
   "metadata": {},
   "source": [
    "#### 3. MITRE ATT&CK Framework Overview\n",
    "\n",
    "The MITRE ATT&CK Framework is a comprehensive knowledge base of adversary tactics and techniques observed in the wild. Each entry in the framework describes how attackers operate at different stages of the attack lifecycle, helping defenders detect and respond to these threats.\n",
    "\n",
    "The framework is divided into:\n",
    "\n",
    "- Tactics: The high-level goals adversaries are trying to achieve (e.g., Persistence, Lateral Movement).\n",
    "- echniques: Specific methods adversaries use to achieve these goals (e.g., Credential Dumping, Remote File Copy).\n"
   ]
  },
  {
   "cell_type": "markdown",
   "metadata": {},
   "source": [
    "----"
   ]
  },
  {
   "cell_type": "markdown",
   "metadata": {},
   "source": [
    "##### Option 1: Using `pyattck` (Live Data)\n",
    "Here’s how to interact with the MITRE ATT&CK framework using the pyattck library for live data:"
   ]
  },
  {
   "cell_type": "code",
   "execution_count": null,
   "metadata": {},
   "outputs": [],
   "source": [
    "from pyattck import Attck\n",
    "\n",
    "# Initialize the MITRE ATT&CK framework\n",
    "attack = Attck()\n",
    "\n",
    "# Retrieve and display all tactics from MITRE ATT&CK (Enterprise Matrix)\n",
    "tactics = attack.enterprise.tactics\n",
    "\n",
    "print(\"List of Tactics:\")\n",
    "for tactic in tactics:\n",
    "    print(f\"- {tactic.name} (ID: {tactic.id})\")\n",
    "\n",
    "# Example: Retrieve and display techniques under a specific tactic (e.g., Execution)\n",
    "execution_tactic = next((t for t in tactics if t.name.lower() == \"execution\"), None)\n",
    "\n",
    "if execution_tactic:\n",
    "    print(\"\\nTechniques under the 'Execution' Tactic:\")\n",
    "    for technique in execution_tactic.techniques:\n",
    "        print(f\"- {technique.name} (ID: {technique.id})\")\n",
    "else:\n",
    "    print(\"Execution tactic not found.\")\n"
   ]
  },
  {
   "cell_type": "markdown",
   "metadata": {},
   "source": [
    "##### Option 2: Using Locally Stored JSON Data (Offline Access)\n",
    "If you're working offline or with custom datasets, you can load MITRE ATT&CK JSON data directly:"
   ]
  },
  {
   "cell_type": "code",
   "execution_count": null,
   "metadata": {},
   "outputs": [],
   "source": [
    "import json\n",
    "\n",
    "# Load the locally downloaded MITRE ATT&CK JSON data\n",
    "with open('C:/path/to/enterprise-attack.json', 'r') as f:\n",
    "    attack_data = json.load(f)\n",
    "\n",
    "# Retrieve and display all tactics\n",
    "tactics = [item for item in attack_data['objects'] if item['type'] == 'x-mitre-tactic']\n",
    "\n",
    "print(\"List of Tactics:\")\n",
    "for tactic in tactics:\n",
    "    print(f\"- {tactic['name']} (ID: {tactic['id']})\")\n",
    "\n",
    "# Example: Retrieve and display techniques under the 'Execution' tactic\n",
    "execution_tactic = next((t for t in tactics if t['name'].lower() == \"execution\"), None)\n",
    "\n",
    "if execution_tactic:\n",
    "    execution_techniques = [item for item in attack_data['objects'] \n",
    "                            if item['type'] == 'attack-pattern' \n",
    "                            and 'kill_chain_phases' in item\n",
    "                            and any(phase['phase_name'] == 'execution' for phase in item['kill_chain_phases'])]\n",
    "\n",
    "    print(\"\\nTechniques under the 'Execution' Tactic:\")\n",
    "    for technique in execution_techniques:\n",
    "        print(f\"- {technique['name']} (ID: {technique['id']})\")\n",
    "else:\n",
    "    print(\"Execution tactic not found.\")"
   ]
  },
  {
   "cell_type": "markdown",
   "metadata": {},
   "source": [
    "---"
   ]
  },
  {
   "cell_type": "markdown",
   "metadata": {},
   "source": [
    "##### 4. Fetching Logs and Parsing\n",
    "\n",
    "4.1 Collecting Logs from SIEM\n",
    "\n",
    "For this project, we assume logs are collected from a SIEM (Security Information and Event Management) system, such as Splunk, ELK Stack, or you can use a simple log file with predefined format (e.g., JSON, CSV).\n",
    "\n",
    "To keep things simple for now, let's use a sample log format like this:"
   ]
  },
  {
   "cell_type": "code",
   "execution_count": null,
   "metadata": {},
   "outputs": [],
   "source": [
    "[\n",
    "  {\n",
    "    \"timestamp\": \"2024-10-05 12:00:00\",\n",
    "    \"source_ip\": \"192.168.1.10\",\n",
    "    \"destination_ip\": \"192.168.1.50\",\n",
    "    \"event_type\": \"Process Creation\",\n",
    "    \"process_name\": \"cmd.exe\",\n",
    "    \"mitre_attack_id\": \"T1059\"\n",
    "  },\n",
    "  {\n",
    "    \"timestamp\": \"2024-10-05 12:05:00\",\n",
    "    \"source_ip\": \"192.168.1.11\",\n",
    "    \"destination_ip\": \"192.168.1.51\",\n",
    "    \"event_type\": \"File Access\",\n",
    "    \"file_name\": \"malware.exe\",\n",
    "    \"mitre_attack_id\": \"T1105\"\n",
    "  }\n",
    "]"
   ]
  },
  {
   "cell_type": "markdown",
   "metadata": {},
   "source": [
    "This log format contains:\n",
    "\n",
    "- `timestamp`: The date and time of the event.\n",
    "- `source_ip` / destination_ip: The involved network addresses.\n",
    "- `event_type`: The type of event (e.g., process creation, file access).\n",
    "- `process_name` / file_name: The names of processes or files involved.\n",
    "- `mitre_attack_id`: A mapped MITRE ATT&CK technique ID (e.g., T1059 for Command and Scripting Interpreter).\n",
    "  \n",
    "4.2 Parsing Log Data\n",
    "\n",
    "Let’s parse this log data into a DataFrame using pandas for further analysis. Here's the code to load the log data:"
   ]
  },
  {
   "cell_type": "markdown",
   "metadata": {},
   "source": [
    "4.2 Parsing Log Data\n",
    "\n",
    "Let’s parse this log data into a DataFrame using pandas for further analysis. Here's the code to load the log data:"
   ]
  },
  {
   "cell_type": "code",
   "execution_count": null,
   "metadata": {},
   "outputs": [],
   "source": [
    "import json\n",
    "import pandas as pd\n",
    "\n",
    "# Sample log data in JSON format\n",
    "log_data = '''\n",
    "[\n",
    "  {\n",
    "    \"timestamp\": \"2024-10-05 12:00:00\",\n",
    "    \"source_ip\": \"192.168.1.10\",\n",
    "    \"destination_ip\": \"192.168.1.50\",\n",
    "    \"event_type\": \"Process Creation\",\n",
    "    \"process_name\": \"cmd.exe\",\n",
    "    \"mitre_attack_id\": \"T1059\"\n",
    "  },\n",
    "  {\n",
    "    \"timestamp\": \"2024-10-05 12:05:00\",\n",
    "    \"source_ip\": \"192.168.1.11\",\n",
    "    \"destination_ip\": \"192.168.1.51\",\n",
    "    \"event_type\": \"File Access\",\n",
    "    \"file_name\": \"malware.exe\",\n",
    "    \"mitre_attack_id\": \"T1105\"\n",
    "  }\n",
    "]\n",
    "'''\n",
    "\n",
    "# Load the log data into a pandas DataFrame\n",
    "log_df = pd.read_json(log_data)\n",
    "\n",
    "# Display the log DataFrame\n",
    "log_df.head()"
   ]
  },
  {
   "cell_type": "markdown",
   "metadata": {},
   "source": [
    "This code will:\n",
    "\n",
    "1.  the JSON log data into a pandas DataFrame.\n",
    "2.  Display the top rows of the DataFrame to verify the logs were parsed correctly."
   ]
  },
  {
   "cell_type": "markdown",
   "metadata": {},
   "source": [
    "---"
   ]
  },
  {
   "cell_type": "markdown",
   "metadata": {},
   "source": [
    "##### 5. Mapping Log Data to MITRE ATT&CK Techniques\n",
    "\n",
    "In this step, we will:\n",
    "\n",
    "- Match the mitre_attack_id in our logs with the corresponding MITRE ATT&CK techniques.\n",
    "  \n",
    "- Fetch details such as the name of the technique, the tactic it belongs to, and any relevant descriptions.\n",
    "  \n",
    "5.1 Data Processing with Pandas\n",
    "We already have the logs loaded into a pandas DataFrame. Let's extend it by retrieving more information about each mitre_attack_id.\n",
    "\n",
    "Here’s the code to map each mitre_attack_id in the logs to its respective MITRE ATT&CK technique:"
   ]
  },
  {
   "cell_type": "code",
   "execution_count": null,
   "metadata": {},
   "outputs": [],
   "source": [
    "# Function to fetch technique details from MITRE ATT&CK by technique ID\n",
    "def get_attack_technique_details(attack_id):\n",
    "    try:\n",
    "        technique = next(t for t in attack.enterprise.techniques if t.id == attack_id)\n",
    "        return {\n",
    "            \"technique_name\": technique.name,\n",
    "            \"tactic_name\": technique.tactics[0].name if technique.tactics else \"Unknown\",\n",
    "            \"description\": technique.description\n",
    "        }\n",
    "    except Exception as e:\n",
    "        return {\"technique_name\": \"Unknown\", \"tactic_name\": \"Unknown\", \"description\": \"No details found\"}\n",
    "\n",
    "# Map each MITRE ATT&CK ID in the log data to the corresponding technique details\n",
    "log_df[\"technique_details\"] = log_df[\"mitre_attack_id\"].apply(get_attack_technique_details)\n",
    "\n",
    "# Expand the technique details into separate columns\n",
    "technique_df = pd.json_normalize(log_df[\"technique_details\"])\n",
    "\n",
    "# Combine the original log DataFrame with the technique details\n",
    "log_df = pd.concat([log_df, technique_df], axis=1)\n",
    "\n",
    "# Drop the 'technique_details' column as it's no longer needed\n",
    "log_df = log_df.drop(columns=[\"technique_details\"])\n",
    "\n",
    "# Display the updated DataFrame with technique details\n",
    "log_df.head()"
   ]
  },
  {
   "cell_type": "markdown",
   "metadata": {},
   "source": [
    "Explanation:\n",
    "\n",
    "1. `get_attack_technique_details(attack_id)`: This function takes an attack technique ID (e.g.,`T1059`) and uses `mitreattack-python` to fetch details about the technique, such as its name, associated tactic, and description.\n",
    "   \n",
    "2. Mapping: The `apply()` function maps each mitre_attack_id in the DataFrame to its corresponding technique details.\n",
    "   \n",
    "3. Expanding the DataFrame: We use `pd.json_normalize()` to expand the nested dictionary of technique details into separate columns (`technique_name`, `tactic_name`, `description`).\n",
    "   \n",
    "4. Final DataFrame: We concatenate the original logs with the technique details and clean up unnecessary columns.\n",
    "At this point, the log data should include additional details about each MITRE ATT&CK technique. The output DataFrame will look something like this:\n",
    "\n",
    "At this point, the log data should include additional details about each MITRE ATT&CK technique. The output DataFrame will look something like this:\n",
    "\n",
    "| timestamp           | source_ip    | destination_ip | event_type      | mitre_attack_id | technique_name               | tactic_name         |\n",
    "|---------------------|--------------|----------------|-----------------|-----------------|------------------------------|---------------------|\n",
    "| 2024-10-05 12:00:00 | 192.168.1.10 | 192.168.1.50   | Process Creation | T1059           | Command and Scripting ...     | Execution           |\n",
    "| 2024-10-05 12:05:00 | 192.168.1.11 | 192.168.1.51   | File Access      | T1105           | Ingress Tool Transfer         | Command and Control  |\n",
    "\n"
   ]
  },
  {
   "cell_type": "markdown",
   "metadata": {},
   "source": [
    "---"
   ]
  },
  {
   "cell_type": "markdown",
   "metadata": {},
   "source": [
    "##### 6. Visualization of Techniques\n",
    "\n",
    "Now that we have the MITRE ATT&CK techniques mapped to the log data, let’s move forward with visualizing the techniques using a heatmap and ATT&CK matrix.\n",
    "\n",
    "6.1 Creating a Heatmap\n",
    "\n",
    "We will create a heatmap that shows the frequency of MITRE ATT&CK techniques detected in the logs, grouped by tactic.\n",
    "\n",
    "Here’s the code to generate the heatmap:"
   ]
  },
  {
   "cell_type": "code",
   "execution_count": null,
   "metadata": {},
   "outputs": [],
   "source": [
    "# Group the log data by 'tactic_name' and 'technique_name' to count occurrences\n",
    "technique_counts = log_df.groupby(['tactic_name', 'technique_name']).size().unstack(fill_value=0)\n",
    "\n",
    "# Plot the heatmap using seaborn\n",
    "plt.figure(figsize=(12, 8))\n",
    "sns.heatmap(technique_counts, annot=True, fmt=\"d\", cmap=\"Blues\", cbar=True)\n",
    "\n",
    "# Set plot labels\n",
    "plt.title('Heatmap of Detected MITRE ATT&CK Techniques by Tactic')\n",
    "plt.xlabel('Technique Name')\n",
    "plt.ylabel('Tactic Name')\n",
    "plt.xticks(rotation=90)\n",
    "plt.tight_layout()\n",
    "\n",
    "# Show the heatmap\n",
    "plt.show()\n"
   ]
  },
  {
   "cell_type": "markdown",
   "metadata": {},
   "source": [
    "##### Explanation:\n",
    "\n",
    "1. Grouping the Data: We group the log data by tactic_name and technique_name to count how many times each technique was detected.\n",
    "   \n",
    "   \n",
    "2. Heatmap: We use seaborn to create a heatmap that visualizes the frequency of each technique under its corresponding tactic.\n",
    "   \n",
    "   \n",
    "3. Visualization: The heatmap will display the counts of each technique as color intensities, with annotations showing the actual values."
   ]
  },
  {
   "cell_type": "markdown",
   "metadata": {},
   "source": [
    "---"
   ]
  },
  {
   "cell_type": "markdown",
   "metadata": {},
   "source": [
    "6.2 Displaying the ATT&CK Matrix\n",
    "\n",
    "An ATT&CK matrix visualization shows which tactics and techniques have been detected. We’ll keep this visualization simple by highlighting the techniques present in our logs.\n",
    "\n",
    "Here’s the code to create a simplified ATT&CK matrix:"
   ]
  },
  {
   "cell_type": "code",
   "execution_count": null,
   "metadata": {},
   "outputs": [],
   "source": [
    "# Generate a simplified ATT&CK matrix based on detected tactics and techniques\n",
    "tactic_technique_matrix = log_df.pivot_table(index='tactic_name', columns='technique_name', aggfunc='size', fill_value=0)\n",
    "\n",
    "# Plot the ATT&CK matrix\n",
    "plt.figure(figsize=(14, 10))\n",
    "sns.heatmap(tactic_technique_matrix, annot=True, fmt=\"d\", cmap=\"Greens\", cbar=True)\n",
    "\n",
    "# Set plot labels\n",
    "plt.title('ATT&CK Matrix - Detected Techniques')\n",
    "plt.xlabel('Technique')\n",
    "plt.ylabel('Tactic')\n",
    "plt.xticks(rotation=90)\n",
    "plt.tight_layout()\n",
    "\n",
    "# Show the ATT&CK matrix\n",
    "plt.show()\n"
   ]
  },
  {
   "cell_type": "markdown",
   "metadata": {},
   "source": [
    "This visualization shows a matrix of tactics (rows) and techniques (columns). The values indicate the number of occurrences of each technique, allowing you to see which parts of the ATT&CK matrix are being actively targeted in your logs.\n",
    "\n"
   ]
  },
  {
   "cell_type": "markdown",
   "metadata": {},
   "source": [
    "---"
   ]
  },
  {
   "cell_type": "markdown",
   "metadata": {},
   "source": [
    "##### 7. Generating Reports\n",
    "\n",
    "7.1 Exporting Data as PDF/HTML\n",
    "\n",
    "We can use libraries like matplotlib for visualizations and fpdf or HTML templates for generating and exporting reports. Let's create a summary report that includes:\n",
    "\n",
    "- The original log data.\n",
    "  \n",
    "- The MITRE ATT&CK techniques mapped from the logs.\n",
    "  \n",
    "- The visualizations (heatmap and ATT&CK matrix).\n",
    "  \n",
    "First, install the fpdf library to help generate PDF reports:"
   ]
  },
  {
   "cell_type": "code",
   "execution_count": null,
   "metadata": {},
   "outputs": [],
   "source": [
    "pip install fpdf\n"
   ]
  },
  {
   "cell_type": "markdown",
   "metadata": {},
   "source": [
    "7.1.1 Generating a PDF Report\n",
    "\n",
    "Here’s the Python code to create and export a PDF report summarizing the detected techniques:"
   ]
  },
  {
   "cell_type": "code",
   "execution_count": null,
   "metadata": {},
   "outputs": [],
   "source": [
    "from fpdf import FPDF\n",
    "\n",
    "# Initialize PDF\n",
    "pdf = FPDF()\n",
    "pdf.set_auto_page_break(auto=True, margin=15)\n",
    "pdf.add_page()\n",
    "\n",
    "# Title\n",
    "pdf.set_font('Arial', 'B', 16)\n",
    "pdf.cell(200, 10, txt=\"MITRE ATT&CK Threat Detection Report\", ln=True, align='C')\n",
    "\n",
    "# Subtitle\n",
    "pdf.set_font('Arial', 'B', 12)\n",
    "pdf.cell(200, 10, txt=\"Summary of Detected Techniques\", ln=True, align='C')\n",
    "\n",
    "# Add a table of log data with technique details\n",
    "pdf.set_font('Arial', '', 10)\n",
    "pdf.ln(10)\n",
    "pdf.cell(200, 10, txt=\"Log Data and Mapped Techniques:\", ln=True)\n",
    "\n",
    "# Create table with the log data\n",
    "for index, row in log_df.iterrows():\n",
    "    text = f\"Event: {row['event_type']}, Source IP: {row['source_ip']}, Destination IP: {row['destination_ip']}, Technique: {row['technique_name']} ({row['mitre_attack_id']})\"\n",
    "    pdf.multi_cell(0, 10, txt=text)\n",
    "\n",
    "# Add the heatmap (we'll save the heatmap as an image first)\n",
    "plt.figure(figsize=(12, 8))\n",
    "sns.heatmap(technique_counts, annot=True, fmt=\"d\", cmap=\"Blues\", cbar=True)\n",
    "plt.title('Heatmap of Detected MITRE ATT&CK Techniques by Tactic')\n",
    "plt.xlabel('Technique Name')\n",
    "plt.ylabel('Tactic Name')\n",
    "plt.xticks(rotation=90)\n",
    "plt.tight_layout()\n",
    "\n",
    "# Save heatmap as an image\n",
    "heatmap_image = 'heatmap.png'\n",
    "plt.savefig(heatmap_image)\n",
    "plt.close()\n",
    "\n",
    "# Add the heatmap image to the PDF\n",
    "pdf.image(heatmap_image, x=10, y=None, w=180)\n",
    "\n",
    "# Add the ATT&CK matrix visualization\n",
    "plt.figure(figsize=(14, 10))\n",
    "sns.heatmap(tactic_technique_matrix, annot=True, fmt=\"d\", cmap=\"Greens\", cbar=True)\n",
    "plt.title('ATT&CK Matrix - Detected Techniques')\n",
    "plt.xlabel('Technique')\n",
    "plt.ylabel('Tactic')\n",
    "plt.xticks(rotation=90)\n",
    "plt.tight_layout()\n",
    "\n",
    "# Save the matrix as an image\n",
    "matrix_image = 'attack_matrix.png'\n",
    "plt.savefig(matrix_image)\n",
    "plt.close()\n",
    "\n",
    "# Add the matrix image to the PDF\n",
    "pdf.add_page()\n",
    "pdf.image(matrix_image, x=10, y=None, w=180)\n",
    "\n",
    "# Save the final PDF\n",
    "report_filename = \"mitre_attack_threat_detection_report.pdf\"\n",
    "pdf.output(report_filename)\n",
    "\n",
    "print(f\"Report successfully generated: {report_filename}\")"
   ]
  },
  {
   "cell_type": "markdown",
   "metadata": {},
   "source": [
    "Explanation:\n",
    "\n",
    "1. fpdf initialization: We initialize an FPDF object to create the report.\n",
    "   \n",
    "2. Log Data Table: We loop through the DataFrame (log_df) and add rows of the log data along with mapped techniques.\n",
    "   \n",
    "3. Heatmap and Matrix: We generate the heatmap and ATT&CK matrix, save them as images, and embed them into the PDF report.\n",
    "   \n",
    "4. Export to PDF: The final report is saved as mitre_attack_threat_detection_report.pdf."
   ]
  },
  {
   "cell_type": "markdown",
   "metadata": {},
   "source": [
    "---"
   ]
  },
  {
   "cell_type": "markdown",
   "metadata": {},
   "source": [
    "7.1.2 Generating an HTML Report\n",
    "\n",
    "If you'd prefer an HTML report, here’s an example of generating one using HTML templates:"
   ]
  },
  {
   "cell_type": "code",
   "execution_count": null,
   "metadata": {},
   "outputs": [],
   "source": [
    "# Create a simple HTML template for the report\n",
    "html_template = '''\n",
    "<!DOCTYPE html>\n",
    "<html lang=\"en\">\n",
    "<head>\n",
    "    <meta charset=\"UTF-8\">\n",
    "    <meta name=\"viewport\" content=\"width=device-width, initial-scale=1.0\">\n",
    "    <title>MITRE ATT&CK Threat Detection Report</title>\n",
    "    <style>\n",
    "        body {{ font-family: Arial, sans-serif; }}\n",
    "        h1, h2 {{ text-align: center; }}\n",
    "        table {{ width: 100%; border-collapse: collapse; margin: 20px 0; }}\n",
    "        table, th, td {{ border: 1px solid black; padding: 10px; }}\n",
    "        th {{ background-color: #f2f2f2; }}\n",
    "    </style>\n",
    "</head>\n",
    "<body>\n",
    "    <h1>MITRE ATT&CK Threat Detection Report</h1>\n",
    "    <h2>Summary of Detected Techniques</h2>\n",
    "\n",
    "    <h3>Log Data and Mapped Techniques:</h3>\n",
    "    <table>\n",
    "        <tr>\n",
    "            <th>Timestamp</th>\n",
    "            <th>Source IP</th>\n",
    "            <th>Destination IP</th>\n",
    "            <th>Event Type</th>\n",
    "            <th>Technique Name</th>\n",
    "            <th>Technique ID</th>\n",
    "        </tr>\n",
    "        {log_rows}\n",
    "    </table>\n",
    "\n",
    "    <h3>Heatmap of Detected Techniques:</h3>\n",
    "    <img src=\"heatmap.png\" alt=\"Heatmap\" width=\"700px\">\n",
    "\n",
    "    <h3>ATT&CK Matrix - Detected Techniques:</h3>\n",
    "    <img src=\"attack_matrix.png\" alt=\"ATT&CK Matrix\" width=\"700px\">\n",
    "\n",
    "</body>\n",
    "</html>\n",
    "'''\n",
    "\n",
    "# Generate HTML rows for the log data\n",
    "log_rows = \"\"\n",
    "for index, row in log_df.iterrows():\n",
    "    log_rows += f\"<tr><td>{row['timestamp']}</td><td>{row['source_ip']}</td><td>{row['destination_ip']}</td><td>{row['event_type']}</td><td>{row['technique_name']}</td><td>{row['mitre_attack_id']}</td></tr>\"\n",
    "\n",
    "# Insert the log rows into the HTML template\n",
    "html_report = html_template.format(log_rows=log_rows)\n",
    "\n",
    "# Save the HTML report\n",
    "report_filename_html = \"mitre_attack_threat_detection_report.html\"\n",
    "with open(report_filename_html, 'w') as file:\n",
    "    file.write(html_report)\n",
    "\n",
    "print(f\"Some formatted string here\")\n",
    "\n"
   ]
  },
  {
   "cell_type": "markdown",
   "metadata": {},
   "source": [
    "---"
   ]
  },
  {
   "cell_type": "markdown",
   "metadata": {},
   "source": [
    "##### 7.2 Summary Report of Detected Techniques\n",
    "\n",
    "Both the PDF and HTML reports contain a detailed summary of:\n",
    "\n",
    "- Log events: Including timestamp, source_ip, destination_ip, and event type.\n",
    "  \n",
    "- Mapped MITRE ATT&CK techniques: Each log is mapped to its corresponding technique name and ID.\n",
    "  \n",
    "- Visuals: Heatmap and ATT&CK matrix visualizations.\n"
   ]
  },
  {
   "cell_type": "markdown",
   "metadata": {},
   "source": [
    "---"
   ]
  },
  {
   "cell_type": "markdown",
   "metadata": {},
   "source": [
    "##### Conclusion\n",
    "\n",
    "We’ve now successfully built a tool to:\n",
    "\n",
    "- Collect log data.\n",
    "  \n",
    "- Map it to MITRE ATT&CK techniques.\n",
    "  \n",
    "- Visualize the results.\n",
    "  \n",
    "- Generate reports summarizing the findings."
   ]
  },
  {
   "cell_type": "markdown",
   "metadata": {},
   "source": [
    "----"
   ]
  },
  {
   "cell_type": "markdown",
   "metadata": {},
   "source": [
    "**Author**: Rich Van Buren  \n",
    "**Date**: October 2024  \n",
    "**Project**: Automated Threat Detection Using MITRE ATT&CK  \n",
    "\n",
    "**Contact**:  \n",
    "- **Email**: [rvanburen.tech@gmail.com](mailto:rvanburen.tech@gmail.com)  \n",
    "- **GitHub**: [github.com/Ulfvaldr](https://github.com/Ulfvaldr)  \n",
    "- **LinkedIn**: [linkedin.com/in/rich-van-buren-4762955](https://www.linkedin.com/in/rich-van-buren-4762955)\n",
    "\n"
   ]
  }
 ],
 "metadata": {
  "kernelspec": {
   "display_name": "base",
   "language": "python",
   "name": "python3"
  },
  "language_info": {
   "codemirror_mode": {
    "name": "ipython",
    "version": 3
   },
   "file_extension": ".py",
   "mimetype": "text/x-python",
   "name": "python",
   "nbconvert_exporter": "python",
   "pygments_lexer": "ipython3",
   "version": "3.11.5"
  }
 },
 "nbformat": 4,
 "nbformat_minor": 4
}
